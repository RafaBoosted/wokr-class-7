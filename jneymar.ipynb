{
 "cells": [
  {
   "cell_type": "code",
   "execution_count": null,
   "metadata": {},
   "outputs": [],
   "source": [
    "\n",
    "def funcaoLeitura():\n",
    "    for num in [1,2,3,4,5]:\n",
    "        print(\"Número \", num)\n",
    "\n",
    "funcaoLeitura()\n",
    "\n"
   ]
  },
  {
   "cell_type": "code",
   "execution_count": 7,
   "metadata": {},
   "outputs": [],
   "source": [
    "def funcaoLeitura():\n",
    "    for num in range(5):\n",
    "        print(\"Número \", num)"
   ]
  },
  {
   "cell_type": "code",
   "execution_count": null,
   "metadata": {},
   "outputs": [],
   "source": [
    "#Função ára smor dois numeros\n",
    "def addNum(n1, n2):\n",
    "    print(\"O primeiro número é: \", n1)\n",
    "    print(\"O segundo número é: \", n2)\n",
    "    print(\"O terceiro número é: \", n1 + n2)\n",
    "\n",
    "addNum(4, 5)"
   ]
  },
  {
   "cell_type": "code",
   "execution_count": 21,
   "metadata": {},
   "outputs": [],
   "source": [
    "varGlobal = 10 #essa é uma variavel global\n",
    "def multiplica(num1, num2):\n",
    "    varLocal = num1 * num2 #essa é uma variavel local\n",
    "    print(\"Variavel da função Multiplica: \", varLocal)\n",
    "    #print(varLocal)\n",
    "    print(varLocal)\n",
    "    multiplica(5, 4)"
   ]
  },
  {
   "cell_type": "code",
   "execution_count": null,
   "metadata": {},
   "outputs": [],
   "source": [
    "varGlobal = 10 #variavel global(independente de fora da funcao ainda funciona)\n",
    "def multiplicacao (num1, num2):\n",
    "    varGlobal = (num1 * num2) #apesar do mesmo nome é uma variavel local\n",
    "    print(\"Variavel da função Multiplica: \", varGlobal)\n",
    "\n",
    "multiplicacao(5, 4)\n",
    "print(varGlobal)"
   ]
  },
  {
   "cell_type": "code",
   "execution_count": null,
   "metadata": {},
   "outputs": [],
   "source": [
    "\n",
    "#quando não sabemos a quantidade de parâmetros basta\n",
    "def variosParametros(*parametros): #o \"*\" siginifica pegar todos os parametros\n",
    "    for n, item in enumerate(parametros):\n",
    "       print(\"Parametro\", n, item)\n",
    "    return\n",
    "\n",
    "variosParametros('Rafael', 'Cuduardo', 'Cuvelly')"
   ]
  },
  {
   "cell_type": "code",
   "execution_count": null,
   "metadata": {},
   "outputs": [],
   "source": [
    "def soma(n1, n2):\n",
    "    return n1+n2\n",
    "\n",
    "def subtrai(n1, n2):\n",
    "    return n1-n2\n",
    "\n",
    "def multiplica(n1, n2):\n",
    "    return n1*n2\n",
    "\n",
    "def divide(n1, n2):\n",
    "    return n1/n2\n"
   ]
  },
  {
   "cell_type": "code",
   "execution_count": null,
   "metadata": {},
   "outputs": [],
   "source": [
    "while True:\n",
    "    print(\"+===================+\")\n",
    "    print(\"| MENU DE OPERAÇÕES |\")\n",
    "    print(\"| 1 - somar         |\")\n",
    "    print(\"| 2 - subtrair      |\")\n",
    "    print(\"| 3 - multiplicar   |\")\n",
    "    print(\"| 4 - dividir       |\")\n",
    "    print(\"| 0 - sair          |\")\n",
    "    print(\"+===================+\")\n",
    "\n",
    "    op = int(input())\n",
    "    if op==0:\n",
    "       break\n",
    "\n",
    "    n1 = int (input(\"Primeiro número: \"))\n",
    "    n2 = int (input(\"Segundo número: \"))\n",
    "\n",
    "    if op==1:\n",
    "        print(\"O resultado da soma é: \", soma(n1, n2))\n",
    "    elif op==2:\n",
    "        print (\"O resultado da subtração é: \", subtrai(n1, n2))\n",
    "    elif op==3:\n",
    "        print(\"O resultado da multiplicação é: \", multiplica(n1, n2))\n",
    "    elif op==4:\n",
    "        print(\"O resultado da divisão é: \", divide(n1, n2))\n",
    "\n",
    "    break\n"
   ]
  }
 ],
 "metadata": {
  "kernelspec": {
   "display_name": "Python 3",
   "language": "python",
   "name": "python3"
  },
  "language_info": {
   "codemirror_mode": {
    "name": "ipython",
    "version": 3
   },
   "file_extension": ".py",
   "mimetype": "text/x-python",
   "name": "python",
   "nbconvert_exporter": "python",
   "pygments_lexer": "ipython3",
   "version": "3.11.9"
  }
 },
 "nbformat": 4,
 "nbformat_minor": 2
}
